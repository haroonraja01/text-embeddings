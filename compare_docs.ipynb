{
 "cells": [
  {
   "cell_type": "code",
   "execution_count": 1,
   "metadata": {
    "executionInfo": {
     "elapsed": 166,
     "status": "ok",
     "timestamp": 1739909645195,
     "user": {
      "displayName": "Haroon Raja",
      "userId": "16415464042566881813"
     },
     "user_tz": 300
    },
    "id": "lfF5P46srdie"
   },
   "outputs": [
    {
     "name": "stderr",
     "output_type": "stream",
     "text": [
      "/Users/haroonraja/python_envs/qms-env/lib/python3.11/site-packages/tqdm/auto.py:21: TqdmWarning: IProgress not found. Please update jupyter and ipywidgets. See https://ipywidgets.readthedocs.io/en/stable/user_install.html\n",
      "  from .autonotebook import tqdm as notebook_tqdm\n"
     ]
    }
   ],
   "source": [
    "from langchain_community.document_loaders import TextLoader\n",
    "# from langchain_openai import OpenAIEmbeddings\n",
    "from langchain_text_splitters import CharacterTextSplitter\n",
    "import os\n",
    "from sentence_transformers import SentenceTransformer\n",
    "\n",
    "from langchain_community.document_loaders import PyPDFLoader"
   ]
  },
  {
   "cell_type": "code",
   "execution_count": 2,
   "metadata": {},
   "outputs": [],
   "source": [
    "datadir = \"dataset/\""
   ]
  },
  {
   "cell_type": "code",
   "execution_count": 3,
   "metadata": {
    "colab": {
     "base_uri": "https://localhost:8080/"
    },
    "executionInfo": {
     "elapsed": 235,
     "status": "ok",
     "timestamp": 1739900545768,
     "user": {
      "displayName": "Haroon Raja",
      "userId": "16415464042566881813"
     },
     "user_tz": 300
    },
    "id": "-cuxDJgvJSgf",
    "outputId": "8637ab96-1dff-4f61-efcb-d9e574f84cc2"
   },
   "outputs": [
    {
     "name": "stdout",
     "output_type": "stream",
     "text": [
      "page_content='Published in Transactions on Machine Learning Research (10/2022)\n",
      "Distributed Stochastic Algorithms for High-rate Streaming\n",
      "Principal Component Analysis\n",
      "Haroon Raja haroon.raja@rutgers.edu\n",
      "Department of Electrical and Computer Engineering\n",
      "Rutgers University–New Brunswick, Piscataway, NJ 08854 USA\n",
      "Waheed U. Bajwa waheed.bajwa@rutgers.edu\n",
      "Department of Electrical and Computer Engineering\n",
      "Department of Statistics\n",
      "Rutgers University–New Brunswick, Piscataway, NJ 08854 USA\n",
      "Reviewed on OpenReview:https: // openreview. net/ forum? id= CExeD0jpB6\n",
      "Abstract\n",
      "This paper considers the problem of estimating the principal eigenvector of a covariance\n",
      "matrix from independent and identically distributed data samples in streaming settings.\n",
      "The streaming rate of data in many contemporary applications can be high enough that\n",
      "a single processor cannot finish an iteration of existing methods for eigenvector estimation\n",
      "before a new sample arrives. This paper formulates and analyzes a distributed variant of\n",
      "the classical Krasulina’s method (D-Krasulina) that can keep up with the high streaming\n",
      "rate of data by distributing the computational load across multiple processing nodes. The\n",
      "analysis improves upon the one in (Balsubramani et al., 2013) for the original Krasulina’s\n",
      "method and shows that—under appropriate conditions—D-Krasulina converges to the prin-\n",
      "cipal eigenvector in an order-wise optimal manner; i.e., after receivingM samples across\n",
      "all nodes, its estimation error can beO(1/M). In order to reduce the network communica-\n",
      "tion overhead, the paper also develops and analyzes a mini-batch extension of D-Krasulina,\n",
      "which is termed DM-Krasulina. The analysis of DM-Krasulina shows that it can also achieve\n",
      "order-optimal estimation error rates under appropriate conditions, even when some samples\n",
      "have to be discarded within the network due to communication latency. Finally, experiments\n",
      "are performed over synthetic and real-world data to validate the convergence behaviors of\n",
      "D-Krasulina and DM-Krasulina in high-rate streaming settings.\n",
      "1 Introduction\n",
      "Dimensionality reduction and feature learning methods such asprincipal component analysis(PCA), sparse\n",
      "PCA,independentcomponentanalysis, andautoencoderformanimportantcomponentofanymachinelearn-\n",
      "ing pipeline. For data lying in ad-dimensional space, such methods try to find thek≪dvariables/features\n",
      "that are most relevant for solving an application-specific task (e.g., classification, regression, estimation,\n",
      "data compression, etc.). The focus of this work is on PCA, where the objective is to computek-features\n",
      "that capture most of the variance in data. The proliferation ofbig data (both in terms of dimensionality\n",
      "and number of samples) has resulted in an increased interest in developing new algorithms for PCA due to\n",
      "the fact that classical numerical solutions (e.g., power iteration and Lanczos method (Golub & Van Loan,\n",
      "2012)) for computing eigenvectors of symmetric matrices do not scale well with high dimensionality and large\n",
      "sample sizes. The main interest in this regard has been on developing algorithms that are cheap in terms of\n",
      "both memory and computational requirements as a function of dimensionality and number of data samples.\n",
      "In addition to high dimensionality and large number of samples, another defining characteristic of modern\n",
      "data is their streaming nature in many applications; examples of such applications include the internet-of-\n",
      "things, high-frequency trading, meteorology, video surveillance, autonomous vehicles, social media analytics,\n",
      "1' metadata={'producer': 'MiKTeX pdfTeX-1.40.24', 'creator': 'LaTeX with hyperref', 'creationdate': '2022-10-29T20:42:52-04:00', 'author': '', 'title': '', 'subject': '', 'keywords': '', 'moddate': '2022-10-29T20:42:52-04:00', 'trapped': '/False', 'ptex.fullbanner': 'This is MiKTeX-pdfTeX 4.11.0 (1.40.24)', 'source': 'dataset/tmlr.pdf', 'total_pages': 40, 'page': 0, 'page_label': '1'}\n"
     ]
    }
   ],
   "source": [
    "loader = PyPDFLoader(os.path.join(datadir, \"tmlr.pdf\"))\n",
    "pages = []\n",
    "for page in loader.load():\n",
    "    pages.append(page)\n",
    "text_splitter = CharacterTextSplitter(chunk_size=240, chunk_overlap=0)\n",
    "documents = text_splitter.split_documents(pages)\n",
    "\n",
    "loader2 = PyPDFLoader(os.path.join(datadir, \"proceedings.pdf\"))\n",
    "pages2 = []\n",
    "for page in loader2.load():\n",
    "    pages2.append(page)\n",
    "# text_splitter = CharacterTextSplitter(chunk_size=240, chunk_overlap=0)\n",
    "documents2 = text_splitter.split_documents(pages2)\n",
    "print(documents[0])"
   ]
  },
  {
   "cell_type": "code",
   "execution_count": 4,
   "metadata": {},
   "outputs": [
    {
     "name": "stdout",
     "output_type": "stream",
     "text": [
      "torch.Size([4, 4])\n",
      "tensor([[0.5654, 0.3657, 0.3560, 0.5161],\n",
      "        [0.5850, 0.3818, 0.3501, 0.4805],\n",
      "        [0.2472, 0.1526, 0.1943, 0.2722],\n",
      "        [0.4683, 0.2798, 0.3035, 0.4712]], dtype=torch.float16)\n"
     ]
    }
   ],
   "source": [
    "model = SentenceTransformer(\"sentence-transformers/all-MiniLM-L6-v2\", model_kwargs={\"torch_dtype\": \"float16\"})\n",
    "\n",
    "sentences = [\n",
    "    documents[0].page_content,\n",
    "    documents[1].page_content,\n",
    "    documents[2].page_content,\n",
    "    documents[3].page_content\n",
    "]\n",
    "embeddings = model.encode(sentences)\n",
    "\n",
    "sentences2 = [\n",
    "    documents2[0].page_content,\n",
    "    documents2[1].page_content,\n",
    "    documents2[2].page_content,\n",
    "    documents2[3].page_content\n",
    "]\n",
    "embeddings2 = model.encode(sentences2)\n",
    "similarities = model.similarity(embeddings, embeddings2)\n",
    "print(similarities.shape)\n",
    "print(similarities)"
   ]
  },
  {
   "cell_type": "code",
   "execution_count": null,
   "metadata": {},
   "outputs": [],
   "source": []
  }
 ],
 "metadata": {
  "accelerator": "GPU",
  "colab": {
   "authorship_tag": "ABX9TyO6f6GAWj4fEaXfV9H6btWc",
   "gpuType": "T4",
   "provenance": []
  },
  "kernelspec": {
   "display_name": "Python 3 (ipykernel)",
   "language": "python",
   "name": "python3"
  },
  "language_info": {
   "codemirror_mode": {
    "name": "ipython",
    "version": 3
   },
   "file_extension": ".py",
   "mimetype": "text/x-python",
   "name": "python",
   "nbconvert_exporter": "python",
   "pygments_lexer": "ipython3",
   "version": "3.11.4"
  }
 },
 "nbformat": 4,
 "nbformat_minor": 4
}
